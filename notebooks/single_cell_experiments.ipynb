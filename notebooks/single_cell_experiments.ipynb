{
 "cells": [
  {
   "cell_type": "code",
   "execution_count": 1,
   "metadata": {},
   "outputs": [
    {
     "name": "stdout",
     "output_type": "stream",
     "text": [
      "Import of eden.EdenBackend failed due to:\n",
      "No module named 'eden_simulator'\n"
     ]
    },
    {
     "name": "stderr",
     "output_type": "stream",
     "text": [
      "Warning: no DISPLAY environment variable.\n",
      "--No graphics will be displayed.\n"
     ]
    }
   ],
   "source": [
    "import sys\n",
    "import os\n",
    "my_path = os.path.dirname(os.getcwd())  # '/home/ellismith/OlfactoryBulb'\n",
    "sys.path.append(my_path)\n",
    "\n",
    "from prev_ob_models.Birgiolas2020.fitting import *\n",
    "from prev_ob_models.Birgiolas2020.isolated_cells import *\n",
    "\n",
    "import neuronunit\n",
    "import neuronunit.tests.base\n",
    "from neuron.units import mV, ms, µm\n",
    "from neuron import h, gui, load_mechanisms\n",
    "import plotly\n",
    "import plotly.graph_objects as go"
   ]
  },
  {
   "cell_type": "code",
   "execution_count": 2,
   "metadata": {},
   "outputs": [
    {
     "data": {
      "text/plain": [
       "True"
      ]
     },
     "execution_count": 2,
     "metadata": {},
     "output_type": "execute_result"
    }
   ],
   "source": [
    "# setup\n",
    "h.cvode_active(0)\n",
    "delay = 200\n",
    "dur   = 700\n",
    "h.tstop = 1000\n",
    "h.celsius = 35\n",
    "h.steps_per_ms = 20   # can increase this value for better temporal resolution\n",
    "h.dt = 1.0 / h.steps_per_ms\n",
    "\n",
    "load_mechanisms(\"%s/prev_ob_models/Birgiolas2020/Mechanisms\"%my_path)"
   ]
  },
  {
   "cell_type": "code",
   "execution_count": 3,
   "metadata": {},
   "outputs": [],
   "source": [
    "def load_cell(my_cell):\n",
    "    # choose a neuron and segment (my_cell = \"GC2\")\n",
    "    neuron_path = \"%s/prev_ob_models/Birgiolas2020/Cells/%s.hoc\"% (my_path, my_cell)\n",
    "    h.load_file(neuron_path)\n",
    "\n",
    "    # run current clamp on single neuron \n",
    "    soma = h.Section(name=\"soma\")\n",
    "    soma.L = soma.diam = 10 * µm\n",
    "    h.hh.insert(soma)\n",
    "        \n",
    "    return h, soma"
   ]
  },
  {
   "cell_type": "markdown",
   "metadata": {},
   "source": [
    "### Current clamp\n",
    "\n",
    "- three key properties of a current clamp: amp – the amplitude (in nA), delay – the time the current clamp switches on (in ms), and dur – how long (in ms) the current clamp stays on. \n",
    "- current clamp: controlling injected current which flows into cell and then to ground\n",
    "    - leakier cell is, the more current can flow (more channels open, low resistance)\n",
    "- Granule cell models were injected 0.06, -0.02, and 0 nA. \n",
    "Simulation temperature was 35 oC"
   ]
  },
  {
   "cell_type": "code",
   "execution_count": 4,
   "metadata": {},
   "outputs": [],
   "source": [
    "def run_iclamp(h, delay=200, dur=700):\n",
    "\n",
    "    # current clamp \n",
    "    iclamp = h.IClamp(soma(0.5))\n",
    "    iclamp.delay = delay * ms\n",
    "    iclamp.dur = dur * ms\n",
    "\n",
    "    # record time, voltage\n",
    "    t = h.Vector().record(h._ref_t)\n",
    "    v = h.Vector().record(soma(0.5)._ref_v)\n",
    "\n",
    "    return iclamp, t, v"
   ]
  },
  {
   "cell_type": "code",
   "execution_count": 5,
   "metadata": {},
   "outputs": [],
   "source": [
    "def plot_voltage(h, iclamp, t, v): \n",
    "  plt.figure()\n",
    "  plt.figure(figsize=(8,6))\n",
    "\n",
    "  for current in [-0.02, 0, 0.02, 0.04, 0.06, 0.1, 0.2]:\n",
    "    iclamp.amp = current\n",
    "    h.finitialize(-65 * mV)\n",
    "    h.continuerun(1000 * ms)\n",
    "    plt.plot(t, v, label = \"%s nA\"%str(current))\n",
    "\n",
    "  plt.legend()\n",
    "  plt.xlabel(\"t (ms)\")\n",
    "  plt.ylabel(\"V (mV)\")\n",
    "  plt.title(\"Current clamp experiments for %s\"%my_cell)\n",
    "  plt.xlim(198, 230)\n",
    "  plt.show()"
   ]
  },
  {
   "cell_type": "code",
   "execution_count": 6,
   "metadata": {},
   "outputs": [
    {
     "data": {
      "text/plain": [
       "<Figure size 432x288 with 0 Axes>"
      ]
     },
     "metadata": {},
     "output_type": "display_data"
    },
    {
     "data": {
      "image/png": "[encoded data removed]",
      "text/plain": [
       "<Figure size 576x432 with 1 Axes>"
      ]
     },
     "metadata": {
      "needs_background": "light"
     },
     "output_type": "display_data"
    }
   ],
   "source": [
    "my_cell = \"GC1\"\n",
    "h, soma = load_cell(my_cell)\n",
    "iclamp, t, v = run_iclamp(h)\n",
    "\n",
    "plot_voltage(h, iclamp, t, v)"
   ]
  },
  {
   "cell_type": "markdown",
   "metadata": {},
   "source": [
    "### Voltage clamp"
   ]
  },
  {
   "cell_type": "code",
   "execution_count": 7,
   "metadata": {},
   "outputs": [],
   "source": [
    "def run_vclamp(h):\n",
    "    # voltage clamp \n",
    "    vclamp = h.VClamp(soma(0.5))\n",
    "    vclamp.amp[0] = -65 * mV\n",
    "    vclamp.dur[0] = 200 * ms\n",
    "    #vclamp.amp[1] = 20 * mV\n",
    "    vclamp.dur[1] = 300 * ms\n",
    "    vclamp.amp[2] = -65 * mV\n",
    "    vclamp.dur[2] = 100 * ms\n",
    "\n",
    "    # record time, Na, K currents\n",
    "    t = h.Vector().record(h._ref_t)\n",
    "    ina = h.Vector().record(soma(0.5)._ref_ina)\n",
    "    ik = h.Vector().record(soma(0.5)._ref_ik)\n",
    "\n",
    "    return vclamp, t, ina, ik"
   ]
  },
  {
   "cell_type": "code",
   "execution_count": 8,
   "metadata": {},
   "outputs": [],
   "source": [
    "def plot_current(h, vclamp, t, ina, ik): \n",
    "  plt.figure()\n",
    "  plt.figure(figsize=(8,6))\n",
    "\n",
    "  for v in range(-80, 50, 10):\n",
    "    vclamp.amp[1] = v\n",
    "    h.finitialize(-65 * mV)\n",
    "    h.continuerun(800 * ms)\n",
    "    plt.plot(t, ik, label = \"%s mV\"%str(v))\n",
    "\n",
    "  plt.legend()\n",
    "  plt.xlabel(\"t (ms)\")\n",
    "  plt.ylabel(\"ik (mA/cm**2)\")\n",
    "  plt.title(\"Voltage clamp experiments for %s\"%my_cell)\n",
    "  plt.show()"
   ]
  },
  {
   "cell_type": "code",
   "execution_count": 9,
   "metadata": {},
   "outputs": [
    {
     "data": {
      "text/plain": [
       "<Figure size 432x288 with 0 Axes>"
      ]
     },
     "metadata": {},
     "output_type": "display_data"
    },
    {
     "data": {
      "image/png": "[encoded data removed]",
      "text/plain": [
       "<Figure size 576x432 with 1 Axes>"
      ]
     },
     "metadata": {
      "needs_background": "light"
     },
     "output_type": "display_data"
    }
   ],
   "source": [
    "vclamp, t, ina, ik = run_vclamp(h)\n",
    "plot_current(h, vclamp, t, ina, ik)"
   ]
  },
  {
   "cell_type": "code",
   "execution_count": null,
   "metadata": {},
   "outputs": [],
   "source": []
  }
 ],
 "metadata": {
  "kernelspec": {
   "display_name": "Python 3.10.4 64-bit",
   "language": "python",
   "name": "python3"
  },
  "language_info": {
   "codemirror_mode": {
    "name": "ipython",
    "version": 3
   },
   "file_extension": ".py",
   "mimetype": "text/x-python",
   "name": "python",
   "nbconvert_exporter": "python",
   "pygments_lexer": "ipython3",
   "version": "3.10.4"
  },
  "varInspector": {
   "cols": {
    "lenName": 16,
    "lenType": 16,
    "lenVar": 40
   },
   "kernels_config": {
    "python": {
     "delete_cmd_postfix": "",
     "delete_cmd_prefix": "del ",
     "library": "var_list.py",
     "varRefreshCmd": "print(var_dic_list())"
    },
    "r": {
     "delete_cmd_postfix": ") ",
     "delete_cmd_prefix": "rm(",
     "library": "var_list.r",
     "varRefreshCmd": "cat(var_dic_list()) "
    }
   },
   "position": {
    "height": "437.85px",
    "left": "557px",
    "right": "20px",
    "top": "120px",
    "width": "350px"
   },
   "types_to_exclude": [
    "module",
    "function",
    "builtin_function_or_method",
    "instance",
    "_Feature"
   ],
   "window_display": false
  },
  "vscode": {
   "interpreter": {
    "hash": "31f2aee4e71d21fbe5cf8b01ff0e069b9275f58929596ceb00d14d90e3e16cd6"
   }
  }
 },
 "nbformat": 4,
 "nbformat_minor": 2
}
