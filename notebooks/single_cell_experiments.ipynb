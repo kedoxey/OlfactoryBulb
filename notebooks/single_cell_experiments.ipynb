{
 "cells": [
  {
   "cell_type": "code",
   "execution_count": 1,
   "metadata": {},
   "outputs": [
    {
     "name": "stdout",
     "output_type": "stream",
     "text": [
      "Import of eden.EdenBackend failed due to:\n",
      "No module named 'eden_simulator'\n"
     ]
    },
    {
     "name": "stderr",
     "output_type": "stream",
     "text": [
      "Warning: no DISPLAY environment variable.\n",
      "--No graphics will be displayed.\n"
     ]
    }
   ],
   "source": [
    "import sys\n",
    "import os\n",
    "my_path = os.path.dirname(os.getcwd())  # '/home/ellismith/OlfactoryBulb'\n",
    "sys.path.append(my_path)\n",
    "\n",
    "from prev_ob_models.Birgiolas2020.fitting import *\n",
    "from prev_ob_models.Birgiolas2020.isolated_cells import *\n",
    "from prev_ob_models.Birgiolas2020.Mechanisms import *\n",
    "\n",
    "import neuronunit\n",
    "import neuronunit.tests.base\n",
    "from neuron.units import mV, ms, µm\n",
    "from neuron import h, gui, load_mechanisms\n",
    "import plotly\n",
    "import plotly.graph_objects as go"
   ]
  },
  {
   "cell_type": "code",
   "execution_count": 2,
   "metadata": {},
   "outputs": [
    {
     "data": {
      "text/plain": [
       "True"
      ]
     },
     "execution_count": 2,
     "metadata": {},
     "output_type": "execute_result"
    }
   ],
   "source": [
    "# setup\n",
    "h.cvode_active(0)\n",
    "delay = 200\n",
    "dur   = 700\n",
    "h.tstop = 1000\n",
    "h.celsius = 35\n",
    "h.steps_per_ms = 10   # can increase this value for better temporal resolution\n",
    "h.dt = 1.0 / h.steps_per_ms\n",
    "\n",
    "load_mechanisms(\"%s/prev_ob_models/Birgiolas2020/Mechanisms\"%my_path)"
   ]
  },
  {
   "cell_type": "code",
   "execution_count": 3,
   "metadata": {},
   "outputs": [
    {
     "data": {
      "text/plain": [
       "1000.0"
      ]
     },
     "execution_count": 3,
     "metadata": {},
     "output_type": "execute_result"
    }
   ],
   "source": [
    "# h.load_file('/home/ellismith/OlfactoryBulb/prev_ob_models/Birgiolas2020/Cells/GC1.hoc')\n",
    "# h.init()\n",
    "# h.topology()\n",
    "h.tstop"
   ]
  },
  {
   "cell_type": "code",
   "execution_count": 4,
   "metadata": {},
   "outputs": [],
   "source": [
    "def load_cell(my_cell):\n",
    "    # choose a neuron and segment (my_cell = \"GC2\")\n",
    "    neuron_path = \"%s/prev_ob_models/Birgiolas2020/Cells/%s.hoc\"% (my_path, my_cell)\n",
    "    h.load_file(neuron_path)\n",
    "    cell = getattr(h, my_cell)()    # to change cell name string to accessible attribute\n",
    "    # soma = getattr(h, my_cell)().soma\n",
    "\n",
    "    #soma = h.psection()[0]\n",
    "\n",
    "    #soma = h.Section(name=\"soma\")\n",
    "    #soma.L = soma.diam = 10 * µm\n",
    "    #h.hh.insert(soma)\n",
    "\n",
    "    for sec in h.allsec():\n",
    "        print(sec)\n",
    "        \n",
    "    return h, cell\n"
   ]
  },
  {
   "cell_type": "markdown",
   "metadata": {},
   "source": [
    "### Current clamp\n",
    "\n",
    "- three key properties of a current clamp: amp – the amplitude (in nA), delay – the time the current clamp switches on (in ms), and dur – how long (in ms) the current clamp stays on. \n",
    "- current clamp: controlling injected current which flows into cell and then to ground\n",
    "    - leakier cell is, the more current can flow (more channels open, low resistance)\n",
    "- Granule cell models were injected 0.06, -0.02, and 0 nA. \n",
    "Simulation temperature was 35 oC"
   ]
  },
  {
   "cell_type": "code",
   "execution_count": 5,
   "metadata": {},
   "outputs": [],
   "source": [
    "def run_iclamp(h, cell, delay=100 * ms, dur=200 * ms):\n",
    "\n",
    "    # current clamp \n",
    "    iclamp = h.IClamp(cell.soma(0.5))\n",
    "    iclamp.delay = delay\n",
    "    iclamp.dur = dur\n",
    "\n",
    "    # record time, voltage\n",
    "    t = h.Vector().record(h._ref_t)\n",
    "    v = h.Vector().record(cell.soma(0.5)._ref_v)\n",
    "\n",
    "    return iclamp, t, v"
   ]
  },
  {
   "cell_type": "code",
   "execution_count": 9,
   "metadata": {},
   "outputs": [],
   "source": [
    "def plot_voltage(h, iclamp, t, v): \n",
    "  plt.figure()\n",
    "  plt.figure(figsize=(8,6))\n",
    "\n",
    "  for current in [-0.02, 0, 0.02, 0.06, 0.1]:\n",
    "    iclamp.amp = current\n",
    "    h.finitialize(-65 * mV)\n",
    "    h.continuerun(1000 * ms)\n",
    "    plt.plot(t, v, label = \"%s nA\"%str(current))\n",
    "\n",
    "  plt.legend()\n",
    "  plt.xlabel(\"t (ms)\")\n",
    "  plt.ylabel(\"V (mV)\")\n",
    "  plt.title(\"Current clamp experiments for %s\"%my_cell)\n",
    "  plt.xlim(0, 1000)\n",
    "  plt.show()"
   ]
  },
  {
   "cell_type": "code",
   "execution_count": 7,
   "metadata": {},
   "outputs": [
    {
     "name": "stdout",
     "output_type": "stream",
     "text": [
      "MC1[0].soma\n",
      "MC1[0].dend[0]\n",
      "MC1[0].dend[1]\n",
      "MC1[0].dend[2]\n",
      "MC1[0].dend[3]\n",
      "MC1[0].dend[4]\n",
      "MC1[0].dend[5]\n",
      "MC1[0].dend[6]\n",
      "MC1[0].dend[7]\n",
      "MC1[0].dend[8]\n",
      "MC1[0].dend[9]\n",
      "MC1[0].dend[10]\n",
      "MC1[0].dend[11]\n",
      "MC1[0].dend[12]\n",
      "MC1[0].dend[13]\n",
      "MC1[0].apic[0]\n",
      "MC1[0].apic[1]\n",
      "MC1[0].apic[2]\n",
      "MC1[0].apic[3]\n",
      "MC1[0].apic[4]\n",
      "MC1[0].apic[5]\n",
      "MC1[0].apic[6]\n",
      "MC1[0].apic[7]\n",
      "MC1[0].apic[8]\n",
      "MC1[0].apic[9]\n",
      "MC1[0].apic[10]\n",
      "MC1[0].apic[11]\n",
      "MC1[0].apic[12]\n",
      "MC1[0].apic[13]\n",
      "MC1[0].apic[14]\n",
      "MC1[0].apic[15]\n",
      "MC1[0].apic[16]\n",
      "MC1[0].apic[17]\n",
      "MC1[0].apic[18]\n",
      "MC1[0].apic[19]\n",
      "MC1[0].apic[20]\n",
      "MC1[0].apic[21]\n",
      "MC1[0].apic[22]\n",
      "MC1[0].apic[23]\n",
      "MC1[0].apic[24]\n",
      "MC1[0].apic[25]\n",
      "MC1[0].apic[26]\n",
      "MC1[0].axon\n",
      "\n",
      "|-|       MC1[0].soma(0-1)\n",
      "  `--|       MC1[0].dend[0](0-1)\n",
      "      `------------------|       MC1[0].dend[1](0-1)\n",
      "      `------------------|       MC1[0].dend[2](0-1)\n",
      "  `------------------|       MC1[0].dend[3](0-1)\n",
      "  `|       MC1[0].dend[11](0-1)\n",
      "    `--------|       MC1[0].dend[12](0-1)\n",
      "    `--|       MC1[0].dend[13](0-1)\n",
      "  `|       MC1[0].apic[0](0-1)\n",
      "    `|       MC1[0].dend[4](0-1)\n",
      "      `----------|       MC1[0].dend[5](0-1)\n",
      "                  `--|       MC1[0].dend[6](0-1)\n",
      "                  `--|       MC1[0].dend[7](0-1)\n",
      "      `----------|       MC1[0].dend[8](0-1)\n",
      "                  `------|       MC1[0].dend[9](0-1)\n",
      "                  `------|       MC1[0].dend[10](0-1)\n",
      "    `--|       MC1[0].apic[1](0-1)\n",
      "        `|       MC1[0].apic[2](0-1)\n",
      "          `|       MC1[0].apic[3](0-1)\n",
      "            `|       MC1[0].apic[4](0-1)\n",
      "              `|       MC1[0].apic[5](0-1)\n",
      "              `|       MC1[0].apic[6](0-1)\n",
      "                `--|       MC1[0].apic[7](0-1)\n",
      "                `--|       MC1[0].apic[8](0-1)\n",
      "                `|       MC1[0].apic[9](0-1)\n",
      "                  `--|       MC1[0].apic[10](0-1)\n",
      "                  `|       MC1[0].apic[11](0-1)\n",
      "            `|       MC1[0].apic[12](0-1)\n",
      "              `|       MC1[0].apic[13](0-1)\n",
      "                `|       MC1[0].apic[14](0-1)\n",
      "                  `|       MC1[0].apic[15](0-1)\n",
      "                  `|       MC1[0].apic[16](0-1)\n",
      "                `|       MC1[0].apic[17](0-1)\n",
      "                  `|       MC1[0].apic[18](0-1)\n",
      "                  `|       MC1[0].apic[19](0-1)\n",
      "              `|       MC1[0].apic[20](0-1)\n",
      "          `--|       MC1[0].apic[21](0-1)\n",
      "              `--|       MC1[0].apic[22](0-1)\n",
      "              `|       MC1[0].apic[23](0-1)\n",
      "        `|       MC1[0].apic[24](0-1)\n",
      "          `--|       MC1[0].apic[25](0-1)\n",
      "          `--|       MC1[0].apic[26](0-1)\n",
      "  `|       MC1[0].axon(0-1)\n",
      "\n"
     ]
    },
    {
     "data": {
      "text/plain": [
       "1.0"
      ]
     },
     "execution_count": 7,
     "metadata": {},
     "output_type": "execute_result"
    }
   ],
   "source": [
    "my_cell = \"GC1\"\n",
    "h, cell = load_cell(my_cell)"
   ]
  },
  {
   "cell_type": "code",
   "execution_count": 10,
   "metadata": {},
   "outputs": [
    {
     "data": {
      "text/plain": [
       "<Figure size 432x288 with 0 Axes>"
      ]
     },
     "metadata": {},
     "output_type": "display_data"
    },
    {
     "data": {
      "image/png": "[encoded data removed]",
      "text/plain": [
       "<Figure size 576x432 with 1 Axes>"
      ]
     },
     "metadata": {
      "needs_background": "light"
     },
     "output_type": "display_data"
    }
   ],
   "source": [
    "iclamp, t, v = run_iclamp(h, cell, delay, dur)\n",
    "\n",
    "plot_voltage(h, iclamp, t, v)"
   ]
  },
  {
   "cell_type": "code",
   "execution_count": 8,
   "metadata": {},
   "outputs": [
    {
     "data": {
      "text/plain": [
       "1000.0"
      ]
     },
     "execution_count": 8,
     "metadata": {},
     "output_type": "execute_result"
    }
   ],
   "source": [
    "h.tstop"
   ]
  },
  {
   "cell_type": "code",
   "execution_count": 10,
   "metadata": {},
   "outputs": [],
   "source": [
    "#my_cell2 = \"GC2\"\n",
    "#h, soma = load_cell(my_cell2)\n",
    "#iclamp, t, v2 = run_iclamp(h)\n",
    "#print(np.allclose(v1,v2))"
   ]
  },
  {
   "cell_type": "code",
   "execution_count": null,
   "metadata": {},
   "outputs": [
    {
     "data": {
      "text/plain": [
       "GC1[0]"
      ]
     },
     "execution_count": 16,
     "metadata": {},
     "output_type": "execute_result"
    }
   ],
   "source": [
    "h.GC1()"
   ]
  },
  {
   "cell_type": "markdown",
   "metadata": {},
   "source": [
    "### Voltage clamp"
   ]
  },
  {
   "cell_type": "code",
   "execution_count": null,
   "metadata": {},
   "outputs": [],
   "source": [
    "def run_vclamp(h):\n",
    "    # voltage clamp \n",
    "    vclamp = h.VClamp(soma(0.5))\n",
    "    vclamp.amp[0] = -65 * mV\n",
    "    vclamp.dur[0] = 200 * ms\n",
    "    #vclamp.amp[1] = 20 * mV\n",
    "    vclamp.dur[1] = 300 * ms\n",
    "    vclamp.amp[2] = -65 * mV\n",
    "    vclamp.dur[2] = 100 * ms\n",
    "\n",
    "    # record time, Na, K currents\n",
    "    t = h.Vector().record(h._ref_t)\n",
    "    ina = h.Vector().record(soma(0.5)._ref_ina)\n",
    "    ik = h.Vector().record(soma(0.5)._ref_ik)\n",
    "\n",
    "    return vclamp, t, ina, ik"
   ]
  },
  {
   "cell_type": "code",
   "execution_count": null,
   "metadata": {},
   "outputs": [],
   "source": [
    "def plot_current(h, vclamp, t, ina, ik): \n",
    "  plt.figure()\n",
    "  plt.figure(figsize=(8,6))\n",
    "\n",
    "  for v in range(-80, 50, 10):\n",
    "    vclamp.amp[1] = v\n",
    "    h.finitialize(-65 * mV)\n",
    "    h.continuerun(800 * ms)\n",
    "    plt.plot(t, ik, label = \"%s mV\"%str(v))\n",
    "\n",
    "  plt.legend()\n",
    "  plt.xlabel(\"t (ms)\")\n",
    "  plt.ylabel(\"ik (mA/cm**2)\")\n",
    "  plt.title(\"Voltage clamp experiments for %s\"%my_cell)\n",
    "  plt.show()"
   ]
  },
  {
   "cell_type": "code",
   "execution_count": null,
   "metadata": {},
   "outputs": [
    {
     "data": {
      "text/plain": [
       "<Figure size 432x288 with 0 Axes>"
      ]
     },
     "metadata": {},
     "output_type": "display_data"
    },
    {
     "data": {
      "image/png": "[encoded data removed]",
      "text/plain": [
       "<Figure size 576x432 with 1 Axes>"
      ]
     },
     "metadata": {
      "needs_background": "light"
     },
     "output_type": "display_data"
    }
   ],
   "source": [
    "vclamp, t, ina, ik = run_vclamp(h)\n",
    "plot_current(h, vclamp, t, ina, ik)"
   ]
  },
  {
   "cell_type": "code",
   "execution_count": null,
   "metadata": {},
   "outputs": [],
   "source": []
  }
 ],
 "metadata": {
  "kernelspec": {
   "display_name": "Python 3.7.12 ('OBModel_linux')",
   "language": "python",
   "name": "python3"
  },
  "language_info": {
   "codemirror_mode": {
    "name": "ipython",
    "version": 3
   },
   "file_extension": ".py",
   "mimetype": "text/x-python",
   "name": "python",
   "nbconvert_exporter": "python",
   "pygments_lexer": "ipython3",
   "version": "3.7.12"
  },
  "varInspector": {
   "cols": {
    "lenName": 16,
    "lenType": 16,
    "lenVar": 40
   },
   "kernels_config": {
    "python": {
     "delete_cmd_postfix": "",
     "delete_cmd_prefix": "del ",
     "library": "var_list.py",
     "varRefreshCmd": "print(var_dic_list())"
    },
    "r": {
     "delete_cmd_postfix": ") ",
     "delete_cmd_prefix": "rm(",
     "library": "var_list.r",
     "varRefreshCmd": "cat(var_dic_list()) "
    }
   },
   "position": {
    "height": "437.85px",
    "left": "557px",
    "right": "20px",
    "top": "120px",
    "width": "350px"
   },
   "types_to_exclude": [
    "module",
    "function",
    "builtin_function_or_method",
    "instance",
    "_Feature"
   ],
   "window_display": false
  },
  "vscode": {
   "interpreter": {
    "hash": "b380a2a4064fbdfceb109e549198043a6b94fdb9cd0cf2b2853d298f3e646244"
   }
  }
 },
 "nbformat": 4,
 "nbformat_minor": 2
}
