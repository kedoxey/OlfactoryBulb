{
 "cells": [
  {
   "cell_type": "code",
   "execution_count": 1,
   "metadata": {},
   "outputs": [
    {
     "name": "stdout",
     "output_type": "stream",
     "text": [
      "Import of eden.EdenBackend failed due to:\n",
      "No module named 'eden_simulator'\n"
     ]
    },
    {
     "name": "stderr",
     "output_type": "stream",
     "text": [
      "Warning: no DISPLAY environment variable.\n",
      "--No graphics will be displayed.\n"
     ]
    }
   ],
   "source": [
    "import sys\n",
    "import os\n",
    "my_path = os.path.dirname(os.getcwd())  # '/home/ellismith/OlfactoryBulb'\n",
    "sys.path.append(my_path)\n",
    "\n",
    "from prev_ob_models.Birgiolas2020.fitting import *\n",
    "from prev_ob_models.Birgiolas2020.isolated_cells import *\n",
    "from prev_ob_models.Birgiolas2020.Mechanisms import *\n",
    "\n",
    "import neuronunit\n",
    "import neuronunit.tests.base\n",
    "from neuron.units import mV, ms, µm\n",
    "from neuron import h, gui, load_mechanisms\n",
    "\n",
    "import matplotlib.pyplot as plt"
   ]
  },
  {
   "cell_type": "code",
   "execution_count": 2,
   "metadata": {},
   "outputs": [
    {
     "name": "stdout",
     "output_type": "stream",
     "text": [
      "GC1[0].soma\n",
      "GC1[0].apic[0]\n",
      "GC1[0].apic[1]\n",
      "GC1[0].apic[2]\n",
      "GC1[0].apic[3]\n",
      "GC1[0].apic[4]\n",
      "GC1[0].apic[5]\n",
      "GC1[0].apic[6]\n",
      "GC1[0].apic[7]\n",
      "GC1[0].apic[8]\n",
      "GC1[0].apic[9]\n",
      "GC1[0].apic[10]\n",
      "\n",
      "|-|       GC1[0].soma(0-1)\n",
      "  `----|       GC1[0].apic[0](0-1)\n",
      "        `|       GC1[0].apic[1](0-1)\n",
      "          `--|       GC1[0].apic[2](0-1)\n",
      "          `|       GC1[0].apic[3](0-1)\n",
      "            `--|       GC1[0].apic[4](0-1)\n",
      "            `--|       GC1[0].apic[5](0-1)\n",
      "        `|       GC1[0].apic[6](0-1)\n",
      "          `|       GC1[0].apic[7](0-1)\n",
      "            `--|       GC1[0].apic[8](0-1)\n",
      "            `--|       GC1[0].apic[9](0-1)\n",
      "          `|       GC1[0].apic[10](0-1)\n",
      "\n"
     ]
    },
    {
     "data": {
      "text/plain": [
       "1.0"
      ]
     },
     "execution_count": 2,
     "metadata": {},
     "output_type": "execute_result"
    }
   ],
   "source": [
    "# setup\n",
    "# h.cvode_active(0)\n",
    "# delay = 200\n",
    "# dur   = 700\n",
    "# h.tstop = 1000\n",
    "# h.celsius = 35\n",
    "# h.steps_per_ms = 20   # can increase this value for better temporal resolution\n",
    "# h.dt = 1.0 / h.steps_per_ms\n",
    "\n",
    "load_mechanisms(\"%s/prev_ob_models/Birgiolas2020/Mechanisms\"%my_path)\n",
    "\n",
    "my_cell = 'GC1'\n",
    "neuron_path = \"%s/prev_ob_models/Birgiolas2020/Cells/%s.hoc\"% (my_path, my_cell)\n",
    "h.load_file(neuron_path)\n",
    "\n",
    "h.cvode_active(0)\n",
    "delay = 200\n",
    "dur   = 700\n",
    "h.tstop = 1000\n",
    "h.celsius = 35\n",
    "h.steps_per_ms = 20   # can increase this value for better temporal resolution\n",
    "h.dt = 1.0 / h.steps_per_ms\n",
    "\n",
    "cell = getattr(h, my_cell)()\n",
    "\n",
    "for sec in h.allsec():\n",
    "    print(sec)\n",
    "\n",
    "h.topology()"
   ]
  },
  {
   "cell_type": "code",
   "execution_count": 15,
   "metadata": {},
   "outputs": [],
   "source": [
    "iclamp = h.IClamp(cell.soma(0.5))\n",
    "iclamp.delay = delay\n",
    "iclamp.dur = dur\n",
    "iclamp.amp = 0.06\n",
    "\n",
    "t = h.Vector().record(h._ref_t)\n",
    "v = h.Vector().record(cell.soma(0.5)._ref_v)"
   ]
  },
  {
   "cell_type": "code",
   "execution_count": 16,
   "metadata": {},
   "outputs": [
    {
     "data": {
      "text/plain": [
       "0.0"
      ]
     },
     "execution_count": 16,
     "metadata": {},
     "output_type": "execute_result"
    }
   ],
   "source": [
    "h.finitialize(-65 * mV)\n",
    "h.continuerun(1000 * ms)"
   ]
  },
  {
   "cell_type": "code",
   "execution_count": 17,
   "metadata": {},
   "outputs": [
    {
     "data": {
      "text/plain": [
       "[<matplotlib.lines.Line2D at 0x7f90f50ec890>]"
      ]
     },
     "execution_count": 17,
     "metadata": {},
     "output_type": "execute_result"
    },
    {
     "data": {
      "image/png": "[encoded data removed]",
      "text/plain": [
       "<Figure size 432x288 with 1 Axes>"
      ]
     },
     "metadata": {
      "needs_background": "light"
     },
     "output_type": "display_data"
    }
   ],
   "source": [
    "plt.plot(t, v)"
   ]
  },
  {
   "cell_type": "code",
   "execution_count": null,
   "metadata": {},
   "outputs": [],
   "source": []
  }
 ],
 "metadata": {
  "kernelspec": {
   "display_name": "Python 3.7.12 ('OBModel_linux')",
   "language": "python",
   "name": "python3"
  },
  "language_info": {
   "codemirror_mode": {
    "name": "ipython",
    "version": 3
   },
   "file_extension": ".py",
   "mimetype": "text/x-python",
   "name": "python",
   "nbconvert_exporter": "python",
   "pygments_lexer": "ipython3",
   "version": "3.7.12"
  },
  "orig_nbformat": 4,
  "vscode": {
   "interpreter": {
    "hash": "b380a2a4064fbdfceb109e549198043a6b94fdb9cd0cf2b2853d298f3e646244"
   }
  }
 },
 "nbformat": 4,
 "nbformat_minor": 2
}
